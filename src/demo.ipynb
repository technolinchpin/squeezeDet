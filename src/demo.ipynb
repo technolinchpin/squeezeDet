{
 "cells": [
  {
   "cell_type": "markdown",
   "metadata": {},
   "source": [
    "## SqueezeDet Python Notebook\n",
    "vvibin : This notebook will have the demo.py code to work from jupyter environment.\n",
    "\n",
    "`Note` : BEfore intializing the kernel and start exection ensure the the notebook is started (`jupyter notebook --notebook-dir=/home`) after setting the `PYTHONPATH` env variable with the custom modules dir paths. Without this the kitti modules will fail to load"
   ]
  },
  {
   "cell_type": "code",
   "execution_count": 1,
   "metadata": {
    "collapsed": true
   },
   "outputs": [],
   "source": [
    "\"\"\"SqueezeDet Demo.\n",
    "\n",
    "In image detection mode, for a given image, detect objects and draw bounding\n",
    "boxes around them. In video detection mode, perform real-time detection on the\n",
    "video stream.\n",
    "\"\"\"\n",
    "\n",
    "from __future__ import absolute_import\n",
    "from __future__ import division\n",
    "from __future__ import print_function\n",
    "\n",
    "import cv2\n",
    "import time\n",
    "import sys\n",
    "import os\n",
    "import glob\n",
    "\n",
    "import numpy as np\n",
    "import tensorflow as tf\n",
    "\n",
    "\n",
    "\n",
    "from config import *\n",
    "from train import _draw_box\n",
    "from nets import *\n",
    "\n",
    "\n",
    "#import matplotlib\n",
    "import matplotlib.pyplot as plt\n",
    "from matplotlib.patches import Rectangle\n",
    "\n",
    "% matplotlib inline"
   ]
  },
  {
   "cell_type": "code",
   "execution_count": 2,
   "metadata": {
    "collapsed": false
   },
   "outputs": [
    {
     "name": "stdout",
     "output_type": "stream",
     "text": [
      "0.12.1\n"
     ]
    }
   ],
   "source": [
    "print(tf.__version__)"
   ]
  },
  {
   "cell_type": "markdown",
   "metadata": {},
   "source": [
    "`VERY IMPORTANT NOTE` : In case the FLAG initialization in the following cell  throws ArgumentError: argument --mode: conflicting option string: --mode\n",
    "- To Fix this - try restart the kernel and execute the code."
   ]
  },
  {
   "cell_type": "code",
   "execution_count": 3,
   "metadata": {
    "collapsed": false
   },
   "outputs": [],
   "source": [
    "\n",
    "FLAGS = tf.app.flags.FLAGS\n",
    "\n",
    "## Update the relative path of /data/ folder as the notebook code runs from ./src directory\n",
    "\n",
    "tf.app.flags.DEFINE_string(\n",
    "    'mode', 'image', \"\"\"'image' or 'video'.\"\"\")\n",
    "tf.app.flags.DEFINE_string(\n",
    "    'checkpoint', '../data/model_checkpoints/squeezeDet/model.ckpt-87000',\n",
    "    \"\"\"Path to the model parameter file.\"\"\")\n",
    "tf.app.flags.DEFINE_string(\n",
    "    'input_path', '../data/sample.png',\n",
    "    \"\"\"Input image or video to be detected. Can process glob input such as \"\"\"\n",
    "    \"\"\"./data/00000*.png.\"\"\")\n",
    "tf.app.flags.DEFINE_string(\n",
    "    'out_dir', '../data/out/', \"\"\"Directory to dump output image or video.\"\"\")\n",
    "\n",
    "\n"
   ]
  },
  {
   "cell_type": "code",
   "execution_count": 4,
   "metadata": {
    "collapsed": false
   },
   "outputs": [],
   "source": [
    "def video_demo():\n",
    "  \"\"\"Detect videos.\"\"\"\n",
    "\n",
    "  cap = cv2.VideoCapture(FLAGS.input_path)\n",
    "\n",
    "  # Define the codec and create VideoWriter object\n",
    "  # fourcc = cv2.cv.CV_FOURCC(*'XVID')\n",
    "  # fourcc = cv2.cv.CV_FOURCC(*'MJPG')\n",
    "  # in_file_name = os.path.split(FLAGS.input_path)[1]\n",
    "  # out_file_name = os.path.join(FLAGS.out_dir, 'out_'+in_file_name)\n",
    "  # out = cv2.VideoWriter(out_file_name, fourcc, 30.0, (375,1242), True)\n",
    "  # out = VideoWriter(out_file_name, frameSize=(1242, 375))\n",
    "  # out.open()\n",
    "\n",
    "  with tf.Graph().as_default():\n",
    "    # Load model\n",
    "    mc = kitti_squeezeDet_config()\n",
    "    mc.BATCH_SIZE = 1\n",
    "    # model parameters will be restored from checkpoint\n",
    "    mc.LOAD_PRETRAINED_MODEL = False\n",
    "    model = SqueezeDet(mc, FLAGS.gpu)\n",
    "\n",
    "    saver = tf.train.Saver(model.model_params)\n",
    "\n",
    "    with tf.Session(config=tf.ConfigProto(allow_soft_placement=True)) as sess:\n",
    "      saver.restore(sess, FLAGS.checkpoint)\n",
    "\n",
    "      times = {}\n",
    "      count = 0\n",
    "      while cap.isOpened():\n",
    "        t_start = time.time()\n",
    "        count += 1\n",
    "        out_im_name = os.path.join(FLAGS.out_dir, str(count).zfill(6)+'.jpg')\n",
    "\n",
    "        # Load images from video and crop\n",
    "        ret, frame = cap.read()\n",
    "        if ret==True:\n",
    "          # crop frames\n",
    "          frame = frame[500:-205, 239:-439, :]\n",
    "          im_input = frame.astype(np.float32) - mc.BGR_MEANS\n",
    "        else:\n",
    "          break\n",
    "\n",
    "        t_reshape = time.time()\n",
    "        times['reshape']= t_reshape - t_start\n",
    "\n",
    "        # Detect\n",
    "        det_boxes, det_probs, det_class = sess.run(\n",
    "            [model.det_boxes, model.det_probs, model.det_class],\n",
    "            feed_dict={model.image_input:[im_input], model.keep_prob: 1.0})\n",
    "\n",
    "        t_detect = time.time()\n",
    "        times['detect']= t_detect - t_reshape\n",
    "        \n",
    "        # Filter\n",
    "        final_boxes, final_probs, final_class = model.filter_prediction(\n",
    "            det_boxes[0], det_probs[0], det_class[0])\n",
    "\n",
    "        keep_idx    = [idx for idx in range(len(final_probs)) \\\n",
    "                          if final_probs[idx] > mc.PLOT_PROB_THRESH]\n",
    "        final_boxes = [final_boxes[idx] for idx in keep_idx]\n",
    "        final_probs = [final_probs[idx] for idx in keep_idx]\n",
    "        final_class = [final_class[idx] for idx in keep_idx]\n",
    "\n",
    "        t_filter = time.time()\n",
    "        times['filter']= t_filter - t_detect\n",
    "\n",
    "        # Draw boxes\n",
    "\n",
    "        # TODO(bichen): move this color dict to configuration file\n",
    "        cls2clr = {\n",
    "            'car': (255, 191, 0),\n",
    "            'cyclist': (0, 191, 255),\n",
    "            'pedestrian':(255, 0, 191)\n",
    "        }\n",
    "        _draw_box(\n",
    "            frame, final_boxes,\n",
    "            [mc.CLASS_NAMES[idx]+': (%.2f)'% prob \\\n",
    "                for idx, prob in zip(final_class, final_probs)],\n",
    "            cdict=cls2clr\n",
    "        )\n",
    "\n",
    "        t_draw = time.time()\n",
    "        times['draw']= t_draw - t_filter\n",
    "\n",
    "        cv2.imwrite(out_im_name, frame)\n",
    "        # out.write(frame)\n",
    "\n",
    "        times['total']= time.time() - t_start\n",
    "\n",
    "        # time_str = ''\n",
    "        # for t in times:\n",
    "        #   time_str += '{} time: {:.4f} '.format(t[0], t[1])\n",
    "        # time_str += '\\n'\n",
    "        time_str = 'Total time: {:.4f}, detection time: {:.4f}, filter time: '\\\n",
    "                   '{:.4f}'. \\\n",
    "            format(times['total'], times['detect'], times['filter'])\n",
    "\n",
    "        print (time_str)\n",
    "\n",
    "        if cv2.waitKey(1) & 0xFF == ord('q'):\n",
    "            break\n",
    "  # Release everything if job is finished\n",
    "  cap.release()\n",
    "  # out.release()\n",
    "  cv2.destroyAllWindows()\n",
    "\n",
    "\n",
    "def image_demo():\n",
    "  \"\"\"Detect image.\"\"\"\n",
    "  print(\"in image_demo\")\n",
    "\n",
    "  with tf.Graph().as_default():\n",
    "    # Load model\n",
    "    mc = kitti_squeezeDet_config()\n",
    "    mc.BATCH_SIZE = 1\n",
    "    # model parameters will be restored from checkpoint\n",
    "    mc.LOAD_PRETRAINED_MODEL = False\n",
    "    model = SqueezeDet(mc, FLAGS.gpu)\n",
    "\n",
    "    saver = tf.train.Saver(model.model_params)\n",
    "\n",
    "    with tf.Session(config=tf.ConfigProto(allow_soft_placement=True)) as sess:\n",
    "      saver.restore(sess, FLAGS.checkpoint)\n",
    "\n",
    "      for f in glob.iglob(FLAGS.input_path):\n",
    "        im = cv2.imread(f)\n",
    "        im = im.astype(np.float32, copy=False)\n",
    "        im = cv2.resize(im, (mc.IMAGE_WIDTH, mc.IMAGE_HEIGHT))\n",
    "        input_image = im - mc.BGR_MEANS\n",
    "\n",
    "        # Detect\n",
    "        det_boxes, det_probs, det_class = sess.run(\n",
    "            [model.det_boxes, model.det_probs, model.det_class],\n",
    "            feed_dict={model.image_input:[input_image], model.keep_prob: 1.0})\n",
    "\n",
    "        # Filter\n",
    "        final_boxes, final_probs, final_class = model.filter_prediction(\n",
    "            det_boxes[0], det_probs[0], det_class[0])\n",
    "\n",
    "        keep_idx    = [idx for idx in range(len(final_probs)) \\\n",
    "                          if final_probs[idx] > mc.PLOT_PROB_THRESH]\n",
    "        final_boxes = [final_boxes[idx] for idx in keep_idx]\n",
    "        final_probs = [final_probs[idx] for idx in keep_idx]\n",
    "        final_class = [final_class[idx] for idx in keep_idx]\n",
    "\n",
    "        # TODO(bichen): move this color dict to configuration file\n",
    "        cls2clr = {\n",
    "            'car': (255, 191, 0),\n",
    "            'cyclist': (0, 191, 255),\n",
    "            'pedestrian':(255, 0, 191)\n",
    "        }\n",
    "\n",
    "        # Draw boxes\n",
    "        _draw_box(\n",
    "            im, final_boxes,\n",
    "            [mc.CLASS_NAMES[idx]+': (%.2f)'% prob \\\n",
    "                for idx, prob in zip(final_class, final_probs)],\n",
    "            cdict=cls2clr,\n",
    "        )\n",
    "\n",
    "        file_name = os.path.split(f)[1]\n",
    "        out_file_name = os.path.join(FLAGS.out_dir, 'out_'+file_name)\n",
    "        cv2.imwrite(out_file_name, im)\n",
    "        print ('Image detection output saved to {}'.format(out_file_name))\n",
    "\n"
   ]
  },
  {
   "cell_type": "markdown",
   "metadata": {},
   "source": [
    "Everything works fine the Image detection output is saved to ../data/out/out_sample.png"
   ]
  },
  {
   "cell_type": "code",
   "execution_count": 5,
   "metadata": {
    "collapsed": false
   },
   "outputs": [
    {
     "name": "stdout",
     "output_type": "stream",
     "text": [
      "in image_demo\n",
      "INFO:tensorflow:Summary name mean iou is illegal; using mean_iou instead.\n",
      "Image detection output saved to ../data/out/out_sample.png\n"
     ]
    },
    {
     "ename": "SystemExit",
     "evalue": "",
     "output_type": "error",
     "traceback": [
      "An exception has occurred, use %tb to see the full traceback.\n",
      "\u001b[0;31mSystemExit\u001b[0m\n"
     ]
    },
    {
     "name": "stderr",
     "output_type": "stream",
     "text": [
      "/usr/local/lib/python3.5/dist-packages/IPython/core/interactiveshell.py:2889: UserWarning: To exit: use 'exit', 'quit', or Ctrl-D.\n",
      "  warn(\"To exit: use 'exit', 'quit', or Ctrl-D.\", stacklevel=1)\n"
     ]
    }
   ],
   "source": [
    "\n",
    "def main(argv=None):\n",
    "  if not tf.gfile.Exists(FLAGS.out_dir):\n",
    "    tf.gfile.MakeDirs(FLAGS.out_dir)\n",
    "  if FLAGS.mode == 'image':\n",
    "    image_demo()\n",
    "  else:\n",
    "    video_demo()\n",
    "\n",
    "if __name__ == '__main__':\n",
    "    tf.app.run()\n"
   ]
  },
  {
   "cell_type": "markdown",
   "metadata": {
    "collapsed": false
   },
   "source": [
    "%tb"
   ]
  },
  {
   "cell_type": "code",
   "execution_count": null,
   "metadata": {
    "collapsed": true
   },
   "outputs": [],
   "source": []
  }
 ],
 "metadata": {
  "kernelspec": {
   "display_name": "Python 3",
   "language": "python",
   "name": "python3"
  },
  "language_info": {
   "codemirror_mode": {
    "name": "ipython",
    "version": 3
   },
   "file_extension": ".py",
   "mimetype": "text/x-python",
   "name": "python",
   "nbconvert_exporter": "python",
   "pygments_lexer": "ipython3",
   "version": "3.5.2"
  }
 },
 "nbformat": 4,
 "nbformat_minor": 2
}
